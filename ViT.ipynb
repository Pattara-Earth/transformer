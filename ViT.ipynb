{
 "cells": [
  {
   "cell_type": "code",
   "execution_count": 549,
   "id": "0ca0f4f5",
   "metadata": {},
   "outputs": [],
   "source": [
    "import numpy as np\n",
    "import torch\n",
    "import torch.nn as nn\n",
    "import torch.nn.functional as F\n",
    "import torchvision\n",
    "from torchvision import transforms\n",
    "from tqdm.notebook import tqdm\n",
    "from torchinfo import summary\n",
    "import matplotlib.pyplot as plt\n",
    "%matplotlib inline"
   ]
  },
  {
   "cell_type": "code",
   "execution_count": 550,
   "id": "4414435c",
   "metadata": {},
   "outputs": [],
   "source": [
    "# ViT-Base hyper-parameters // 6\n",
    "# layers: 2\n",
    "# hidden size D: 128 \n",
    "# MLP size: 512 (128x4)\n",
    "# heads: 2"
   ]
  },
  {
   "cell_type": "code",
   "execution_count": 551,
   "id": "a54ab3a8",
   "metadata": {},
   "outputs": [],
   "source": [
    "img_resolution = 32\n",
    "batch_size = 4\n",
    "patch_size = 8\n",
    "embd_size = 128 # D model size\n",
    "n_heads = 2\n",
    "output_size = 10\n",
    "epochs = 10\n",
    "lr = 1e-3"
   ]
  },
  {
   "cell_type": "code",
   "execution_count": 552,
   "id": "66fe3128",
   "metadata": {},
   "outputs": [
    {
     "data": {
      "text/plain": [
       "'cpu'"
      ]
     },
     "execution_count": 552,
     "metadata": {},
     "output_type": "execute_result"
    }
   ],
   "source": [
    "device = 'cuda' if torch.cuda.is_available() else 'cpu'\n",
    "device"
   ]
  },
  {
   "cell_type": "markdown",
   "id": "acd4809e",
   "metadata": {},
   "source": [
    "# CIFAR10 Dataset"
   ]
  },
  {
   "cell_type": "code",
   "execution_count": 553,
   "id": "72f66699",
   "metadata": {},
   "outputs": [],
   "source": [
    "# Data transform: tensor, normalize\n",
    "transform = torchvision.transforms.Compose(\n",
    "    [transforms.ToTensor(),\n",
    "     transforms.Normalize((0.5, 0.5, 0.5), (0.5, 0.5, 0.5))])"
   ]
  },
  {
   "cell_type": "code",
   "execution_count": 554,
   "id": "c44b4d66",
   "metadata": {},
   "outputs": [
    {
     "name": "stdout",
     "output_type": "stream",
     "text": [
      "Files already downloaded and verified\n",
      "Files already downloaded and verified\n"
     ]
    }
   ],
   "source": [
    "# Load cifar10 datasets\n",
    "train_dataset = torchvision.datasets.CIFAR10(root='cifar10-datasets', train=True, download=True, transform=transform)\n",
    "test_dataset = torchvision.datasets.CIFAR10(root='cifar10-datasets', train=False, download=True, transform=transform)"
   ]
  },
  {
   "cell_type": "code",
   "execution_count": 390,
   "id": "570e0d95",
   "metadata": {},
   "outputs": [],
   "source": [
    "# Dataloader\n",
    "train_dataloader = torch.utils.data.DataLoader(train_dataset, batch_size=batch_size,\n",
    "                                               shuffle=True, num_workers=4\n",
    "                                              )\n",
    "test_dataloader = torch.utils.data.DataLoader(test_dataset, batch_size=batch_size,\n",
    "                                               shuffle=False, num_workers=4\n",
    "                                              )"
   ]
  },
  {
   "cell_type": "code",
   "execution_count": 391,
   "id": "178236b7",
   "metadata": {},
   "outputs": [],
   "source": [
    "class_names = train_dataset.classes\n",
    "dataset_size = {'train': len(train_dataset), 'test': len(test_dataset)}"
   ]
  },
  {
   "cell_type": "code",
   "execution_count": 392,
   "id": "ed8d030f",
   "metadata": {},
   "outputs": [],
   "source": [
    "def imshow(img, title=None):\n",
    "    img = img.permute(1, 2, 0).numpy()\n",
    "    mean = np.array([0.5, 0.5, 0.5])\n",
    "    std = np.array([0.5, 0.5, 0.5])\n",
    "    img = std * img + mean\n",
    "    img = np.clip(img, 0, 1)\n",
    "    plt.imshow(img)\n",
    "    if title is not None:\n",
    "        plt.title(title)"
   ]
  },
  {
   "cell_type": "code",
   "execution_count": 393,
   "id": "38694209",
   "metadata": {},
   "outputs": [
    {
     "data": {
      "image/png": "[encoded data removed]",
      "text/plain": [
       "<Figure size 640x480 with 1 Axes>"
      ]
     },
     "metadata": {},
     "output_type": "display_data"
    }
   ],
   "source": [
    "imgs, labels = next(iter(train_dataloader))\n",
    "outs = torchvision.utils.make_grid(imgs)  \n",
    "title = [class_names[l] for l in labels]\n",
    "imshow(outs, title)"
   ]
  },
  {
   "cell_type": "markdown",
   "id": "f2c22e5c",
   "metadata": {},
   "source": [
    "# Build Model\n",
    "- Patch Embedding\n",
    "- Positional Embedding\n",
    "- Multi-Head Self Attention\n",
    "- MLP\n",
    "- Transformer Encoder Block\n",
    "- ViT"
   ]
  },
  {
   "cell_type": "markdown",
   "id": "e9cb5345",
   "metadata": {},
   "source": [
    "# Patch Embedding"
   ]
  },
  {
   "cell_type": "code",
   "execution_count": 509,
   "id": "e0d8f506",
   "metadata": {},
   "outputs": [
    {
     "name": "stdout",
     "output_type": "stream",
     "text": [
      "Image resolution: 32\n",
      "Patch size: 8x8\n",
      "Number of patches: 16\n"
     ]
    }
   ],
   "source": [
    "n_patches = int((img_resolution**2)/(patch_size**2)) # sequence length\n",
    "assert img_resolution % patch_size == 0, \"Image size must be divisible by patch size\"\n",
    "\n",
    "print(f\"Image resolution: {img_resolution}\")\n",
    "print(f\"Patch size: {patch_size}x{patch_size}\")\n",
    "print(f\"Number of patches: {n_patches}\")"
   ]
  },
  {
   "cell_type": "code",
   "execution_count": 449,
   "id": "e633a003",
   "metadata": {},
   "outputs": [],
   "source": [
    "def patch_imshow(img, img_resolution, patch_size, n_patches):\n",
    "    img = img.permute(1, 2, 0).numpy()\n",
    "    mean = np.array([0.5, 0.5, 0.5])\n",
    "    std = np.array([0.5, 0.5, 0.5])\n",
    "    img = std * img + mean\n",
    "    img = np.clip(img, 0, 1)\n",
    "    \n",
    "    fig, axs = plt.subplots(nrows = img_resolution // patch_size, \n",
    "                        ncols = img_resolution // patch_size,\n",
    "                        figsize=(n_patches, n_patches),\n",
    "                        sharex=True,\n",
    "                        sharey=True\n",
    "                      )\n",
    "    \n",
    "    for i, patch_height in enumerate(range(0, H, patch_size)):\n",
    "        for j, patch_weidth in enumerate(range(0, W, patch_size)):\n",
    "            img_patch = img[patch_height: patch_height+patch_size,\n",
    "                                             patch_weidth: patch_weidth+patch_size,\n",
    "                                             :]\n",
    "            axs[i, j].imshow(img_patch)"
   ]
  },
  {
   "cell_type": "code",
   "execution_count": 450,
   "id": "f6298310",
   "metadata": {},
   "outputs": [
    {
     "data": {
      "image/png": "[encoded data removed]",
      "text/plain": [
       "<Figure size 1600x1600 with 16 Axes>"
      ]
     },
     "metadata": {},
     "output_type": "display_data"
    }
   ],
   "source": [
    "patch_imshow(img, img_resolution, patch_size, n_patches)"
   ]
  },
  {
   "cell_type": "code",
   "execution_count": 525,
   "id": "8cb33d03",
   "metadata": {},
   "outputs": [],
   "source": [
    "class PatchEmbedding(nn.Module):\n",
    "    def __init__(self, in_channels, patch_size, n_patches, embd_size):\n",
    "        super().__init__()\n",
    "        self.patch = nn.Conv2d(in_channels=in_channels, \n",
    "                               out_channels=embd_size,\n",
    "                               kernel_size=patch_size,\n",
    "                               stride=patch_size,\n",
    "                               padding=0)\n",
    "        self.flatten = nn.Flatten(start_dim=2, end_dim=3)\n",
    "        self.class_token = nn.Parameter(torch.randn((1, 1, embd_size)), requires_grad=True) # (1, 1, D)\n",
    "        self.position_embd = nn.Parameter(torch.randn((n_patches+1, embd_size)), requires_grad=True) # (N+1, D)\n",
    "        \n",
    "    def forward(self, x):\n",
    "        x = x.unsqueeze(0) if x.dim() == 3 else x\n",
    "        img_resolution = x.shape[-1]\n",
    "        x = self.patch(x) # (B, D, P, P)\n",
    "        x = self.flatten(x) # (B, N, D)\n",
    "        x = x.permute(0, 2, 1)\n",
    "        x = torch.cat((x, self.class_token.repeat(x.shape[0], 1, 1)), dim=1)\n",
    "        x = x + self.position_embd\n",
    "        return x"
   ]
  },
  {
   "cell_type": "markdown",
   "id": "e5f19122",
   "metadata": {},
   "source": [
    "# Head"
   ]
  },
  {
   "cell_type": "code",
   "execution_count": 527,
   "id": "4d67b5b3",
   "metadata": {},
   "outputs": [],
   "source": [
    "class Head(nn.Module):\n",
    "    def __init__(self, embd_size, head_size):\n",
    "        super().__init__()\n",
    "        self.head_size = head_size\n",
    "        self.key = nn.Linear(embd_size, head_size, bias=False)\n",
    "        self.query = nn.Linear(embd_size, head_size, bias=False)\n",
    "        self.value = nn.Linear(embd_size, head_size, bias=False)\n",
    "        \n",
    "    def forward(self, x):\n",
    "        B, T, C = x.shape\n",
    "        k = self.key(x) \n",
    "        q = self.query(x) \n",
    "        a = q @ k.transpose(-2, -1) * self.head_size**-0.5\n",
    "        \n",
    "        v = self.value(x)\n",
    "        out = a @ v\n",
    "        return out"
   ]
  },
  {
   "cell_type": "markdown",
   "id": "ec98dcd0",
   "metadata": {},
   "source": [
    "# Multi-Head Self Attention (MSA)"
   ]
  },
  {
   "cell_type": "code",
   "execution_count": 528,
   "id": "bc0c691d",
   "metadata": {},
   "outputs": [],
   "source": [
    "class MultiHeadAttention(nn.Module):\n",
    "    def __init__(self, n_heads, embd_size, head_size):\n",
    "        super().__init__()\n",
    "        self.heads = nn.ModuleList([Head(embd_size, head_size) for _ in range(n_heads)])\n",
    "        self.proj = nn.Linear(embd_size, embd_size) # projection back to residual pathway\n",
    "        \n",
    "    def forward(self, x):\n",
    "        out = torch.cat([h(x) for h in self.heads], dim=-1)\n",
    "        out = self.proj(out)\n",
    "        return out"
   ]
  },
  {
   "cell_type": "markdown",
   "id": "f09d7a0f",
   "metadata": {},
   "source": [
    "# Multi-Layer Perceptron (MLP)"
   ]
  },
  {
   "cell_type": "code",
   "execution_count": 529,
   "id": "085af2ec",
   "metadata": {},
   "outputs": [],
   "source": [
    "class MLP(nn.Module):\n",
    "    def __init__(self, embd_size):\n",
    "        super().__init__()\n",
    "        self.net = nn.Sequential(\n",
    "            nn.Linear(embd_size, 4 * embd_size),\n",
    "            nn.GELU(),\n",
    "        )\n",
    "        self.proj = nn.Linear(4 * embd_size, embd_size) # projection back to residual pathway\n",
    "    \n",
    "    def forward(self, x):\n",
    "        out = self.net(x)\n",
    "        out = self.proj(out)\n",
    "        return out"
   ]
  },
  {
   "cell_type": "markdown",
   "id": "61ecb8ae",
   "metadata": {},
   "source": [
    "# Transformer Encoder Block"
   ]
  },
  {
   "cell_type": "code",
   "execution_count": 530,
   "id": "9bfaf50d",
   "metadata": {},
   "outputs": [],
   "source": [
    "class EncoderBlock(nn.Module):\n",
    "    def __init__(self, embd_size, n_heads):\n",
    "        super().__init__()\n",
    "        head_size = embd_size // n_heads\n",
    "        self.sa_heads = MultiHeadAttention(n_heads, embd_size, head_size)\n",
    "        self.mlp = MLP(embd_size)\n",
    "        self.ln1 = nn.LayerNorm(embd_size)\n",
    "        self.ln2 = nn.LayerNorm(embd_size)\n",
    "        \n",
    "    def forward(self, x):\n",
    "        x = x + self.sa_heads(self.ln1(x)) # prenorm \n",
    "        x = x + self.mlp(self.ln2(x))\n",
    "        return x"
   ]
  },
  {
   "cell_type": "markdown",
   "id": "63021459",
   "metadata": {},
   "source": [
    "# Vision Transformer (ViT)"
   ]
  },
  {
   "cell_type": "code",
   "execution_count": 535,
   "id": "4a61438c",
   "metadata": {},
   "outputs": [],
   "source": [
    "class VisionTransformer(nn.Module):\n",
    "    def __init__(self):\n",
    "        super().__init__()\n",
    "        self.patch_embd = PatchEmbedding(in_channels=3, \n",
    "                                         patch_size=patch_size, \n",
    "                                         n_patches=n_patches,\n",
    "                                         embd_size=embd_size)\n",
    "        self.EncoderBlocks = nn.Sequential(\n",
    "            EncoderBlock(embd_size, n_heads),\n",
    "            EncoderBlock(embd_size, n_heads),\n",
    "        )      \n",
    "        self.classifier = nn.Sequential(\n",
    "            nn.LayerNorm(embd_size),\n",
    "            nn.Linear(embd_size, output_size)\n",
    "        )    \n",
    "        \n",
    "    def forward(self, x):\n",
    "        x = self.patch_embd(x)\n",
    "        x = self.EncoderBlocks(x)\n",
    "        x = self.classifier(x[:, 0, :])\n",
    "        return x"
   ]
  },
  {
   "cell_type": "code",
   "execution_count": 536,
   "id": "47c6811c",
   "metadata": {},
   "outputs": [
    {
     "data": {
      "text/plain": [
       "=============================================================================================================================\n",
       "Layer (type (var_name))                       Input Shape          Output Shape         Param #              Trainable\n",
       "=============================================================================================================================\n",
       "VisionTransformer (VisionTransformer)         [1, 3, 32, 32]       [1, 10]              --                   True\n",
       "├─PatchEmbedding (patch_embd)                 [1, 3, 32, 32]       [1, 17, 128]         2,304                True\n",
       "│    └─Conv2d (patch)                         [1, 3, 32, 32]       [1, 128, 4, 4]       24,704               True\n",
       "│    └─Flatten (flatten)                      [1, 128, 4, 4]       [1, 128, 16]         --                   --\n",
       "├─Sequential (EncoderBlocks)                  [1, 17, 128]         [1, 17, 128]         --                   True\n",
       "│    └─EncoderBlock (0)                       [1, 17, 128]         [1, 17, 128]         --                   True\n",
       "│    │    └─LayerNorm (ln1)                   [1, 17, 128]         [1, 17, 128]         256                  True\n",
       "│    │    └─MultiHeadAttention (sa_heads)     [1, 17, 128]         [1, 17, 128]         65,664               True\n",
       "│    │    └─LayerNorm (ln2)                   [1, 17, 128]         [1, 17, 128]         256                  True\n",
       "│    │    └─MLP (mlp)                         [1, 17, 128]         [1, 17, 128]         131,712              True\n",
       "│    └─EncoderBlock (1)                       [1, 17, 128]         [1, 17, 128]         --                   True\n",
       "│    │    └─LayerNorm (ln1)                   [1, 17, 128]         [1, 17, 128]         256                  True\n",
       "│    │    └─MultiHeadAttention (sa_heads)     [1, 17, 128]         [1, 17, 128]         65,664               True\n",
       "│    │    └─LayerNorm (ln2)                   [1, 17, 128]         [1, 17, 128]         256                  True\n",
       "│    │    └─MLP (mlp)                         [1, 17, 128]         [1, 17, 128]         131,712              True\n",
       "├─Sequential (classifier)                     [1, 128]             [1, 10]              --                   True\n",
       "│    └─LayerNorm (0)                          [1, 128]             [1, 128]             256                  True\n",
       "│    └─Linear (1)                             [1, 128]             [1, 10]              1,290                True\n",
       "=============================================================================================================================\n",
       "Total params: 424,330\n",
       "Trainable params: 424,330\n",
       "Non-trainable params: 0\n",
       "Total mult-adds (Units.MEGABYTES): 0.79\n",
       "=============================================================================================================================\n",
       "Input size (MB): 0.01\n",
       "Forward/backward pass size (MB): 0.40\n",
       "Params size (MB): 1.69\n",
       "Estimated Total Size (MB): 2.10\n",
       "============================================================================================================================="
      ]
     },
     "execution_count": 536,
     "metadata": {},
     "output_type": "execute_result"
    }
   ],
   "source": [
    "summary(VisionTransformer(), \n",
    "        input_size=(1, 3, 32, 32),\n",
    "        col_names=[\"input_size\", \"output_size\", \"num_params\", \"trainable\"],\n",
    "        col_width=20,\n",
    "        row_settings=[\"var_names\"])"
   ]
  },
  {
   "cell_type": "markdown",
   "id": "1bd48b78",
   "metadata": {},
   "source": [
    "# Model Training"
   ]
  },
  {
   "cell_type": "code",
   "execution_count": 570,
   "id": "34bf8565",
   "metadata": {},
   "outputs": [],
   "source": [
    "torch.manual_seed(49)\n",
    "\n",
    "model = VisionTransformer()\n",
    "model = model.to(device)\n",
    "\n",
    "optimizer = torch.optim.AdamW(model.parameters(), lr=lr)\n",
    "criterion = nn.CrossEntropyLoss()"
   ]
  },
  {
   "cell_type": "code",
   "execution_count": 571,
   "id": "0f55181a",
   "metadata": {},
   "outputs": [
    {
     "name": "stdout",
     "output_type": "stream",
     "text": [
      "Loss @ init: 2.3753\n"
     ]
    }
   ],
   "source": [
    "epoch_loss = 0.0\n",
    "for inputs, labels in train_dataloader:\n",
    "    inputs = inputs.to(device)\n",
    "    labels = labels.to(device)\n",
    "    \n",
    "    outputs = model(inputs)\n",
    "    loss = criterion(outputs, labels)\n",
    "    epoch_loss += loss\n",
    "    \n",
    "print(f\"Loss @ init: {epoch_loss / len(train_dataloader):.4f}\")"
   ]
  },
  {
   "cell_type": "code",
   "execution_count": 572,
   "id": "ae475440",
   "metadata": {},
   "outputs": [],
   "source": [
    "def train(model, criterion, optimizer, dataloader, epochs):\n",
    "    model.train()\n",
    "    for epoch in tqdm(range(epochs)):\n",
    "        epoch_loss = 0.0\n",
    "        for inputs, labels in dataloader:\n",
    "            inputs = inputs.to(device)\n",
    "            labels = labels.to(device)\n",
    "            \n",
    "            logits = model(inputs)\n",
    "            loss = criterion(logits, labels)\n",
    "            \n",
    "            optimizer.zero_grad()\n",
    "            loss.backward()\n",
    "            optimizer.step()\n",
    "            \n",
    "            epoch_loss += loss\n",
    "        \n",
    "        epoch_loss /= len(dataloader)\n",
    "        print(f\"Epoch: {epoch+1}/{epochs} | loss: {epoch_loss:.4f}\")"
   ]
  },
  {
   "cell_type": "code",
   "execution_count": 573,
   "id": "99873f29",
   "metadata": {},
   "outputs": [
    {
     "data": {
      "application/vnd.jupyter.widget-view+json": {
       "model_id": "599304a5ab384678bce470a052b4ff09",
       "version_major": 2,
       "version_minor": 0
      },
      "text/plain": [
       "  0%|          | 0/10 [00:00<?, ?it/s]"
      ]
     },
     "metadata": {},
     "output_type": "display_data"
    },
    {
     "name": "stdout",
     "output_type": "stream",
     "text": [
      "Epoch: 1/10 | loss: 1.8178\n",
      "Epoch: 2/10 | loss: 1.6448\n",
      "Epoch: 3/10 | loss: 1.5794\n",
      "Epoch: 4/10 | loss: 1.5378\n",
      "Epoch: 5/10 | loss: 1.5101\n",
      "Epoch: 6/10 | loss: 1.4870\n",
      "Epoch: 7/10 | loss: 1.4663\n",
      "Epoch: 8/10 | loss: 1.4512\n",
      "Epoch: 9/10 | loss: 1.4374\n",
      "Epoch: 10/10 | loss: 1.4274\n"
     ]
    }
   ],
   "source": [
    "train(model, criterion, optimizer, train_dataloader, epochs)"
   ]
  },
  {
   "cell_type": "code",
   "execution_count": 600,
   "id": "870c7f99",
   "metadata": {},
   "outputs": [
    {
     "name": "stdout",
     "output_type": "stream",
     "text": [
      "1.4153\n"
     ]
    }
   ],
   "source": [
    "model.eval()\n",
    "with torch.inference_mode():\n",
    "    for inputs, labels in test_dataloader:\n",
    "        inputs = inputs.to(device)\n",
    "        labels = labels.to(device)\n",
    "\n",
    "        logits = model(inputs)\n",
    "        probs = F.softmax(logits, dim=1)\n",
    "        loss += -torch.log(probs[range(batch_size), labels]).sum() / batch_size\n",
    "\n",
    "    loss /= len(test_dataloader)\n",
    "    print(f'{loss:.4f}')"
   ]
  },
  {
   "cell_type": "code",
   "execution_count": null,
   "id": "d0ae487a",
   "metadata": {},
   "outputs": [],
   "source": []
  }
 ],
 "metadata": {
  "kernelspec": {
   "display_name": "Python 3 (ipykernel)",
   "language": "python",
   "name": "python3"
  },
  "language_info": {
   "codemirror_mode": {
    "name": "ipython",
    "version": 3
   },
   "file_extension": ".py",
   "mimetype": "text/x-python",
   "name": "python",
   "nbconvert_exporter": "python",
   "pygments_lexer": "ipython3",
   "version": "3.11.3"
  }
 },
 "nbformat": 4,
 "nbformat_minor": 5
}
