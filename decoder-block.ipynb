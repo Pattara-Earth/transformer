{
 "cells": [
  {
   "cell_type": "code",
   "execution_count": 303,
   "id": "b86efac6",
   "metadata": {},
   "outputs": [],
   "source": [
    "import requests\n",
    "import torch\n",
    "import torch.nn as nn\n",
    "import torch.nn.functional as F\n",
    "from tqdm.notebook import tqdm"
   ]
  },
  {
   "cell_type": "code",
   "execution_count": null,
   "id": "3299878e",
   "metadata": {},
   "outputs": [],
   "source": [
    "# hyper-parameters\n",
    "batch_size = 32 # independent sequences process in parallel\n",
    "block_size = 8 # context length\n",
    "n_embd = 32\n",
    "n_head = 4 # n_embd % n_head = 0\n",
    "lr = 1e-3\n",
    "epochs = 20\n",
    "iters = 1000\n",
    "device = 'cuda' if torch.cuda.is_available() else 'cpu'"
   ]
  },
  {
   "cell_type": "markdown",
   "id": "b1e823b1",
   "metadata": {},
   "source": [
    "# Data"
   ]
  },
  {
   "cell_type": "code",
   "execution_count": 727,
   "id": "d70f8f69",
   "metadata": {},
   "outputs": [],
   "source": [
    "url = 'https://raw.githubusercontent.com/karpathy/char-rnn/master/data/tinyshakespeare/input.txt'\n",
    "res = requests.get(url)\n",
    "text = res.content.decode(\"utf-8\")"
   ]
  },
  {
   "cell_type": "code",
   "execution_count": 728,
   "id": "c24e57b2",
   "metadata": {},
   "outputs": [
    {
     "name": "stdout",
     "output_type": "stream",
     "text": [
      "\n",
      " !$&',-.3:;?ABCDEFGHIJKLMNOPQRSTUVWXYZabcdefghijklmnopqrstuvwxyz \n",
      "Number of token: 65\n"
     ]
    }
   ],
   "source": [
    "chars = sorted(list(set(text)))\n",
    "vocab_size = len(chars)\n",
    "print(f\"{''.join(chars)} \\nNumber of token: {vocab_size}\")"
   ]
  },
  {
   "cell_type": "code",
   "execution_count": 729,
   "id": "4b14637b",
   "metadata": {},
   "outputs": [],
   "source": [
    "# text tokenization in character level\n",
    "itos = {i:c for i, c in enumerate(chars)}\n",
    "stoi = {c:i for i, c in enumerate(chars)}\n",
    "\n",
    "encode = lambda s: [stoi[c] for c in s] # encoder: string to list of int\n",
    "decode = lambda l: ''.join([itos[i] for i in l]) # decoder: list of int to string"
   ]
  },
  {
   "cell_type": "code",
   "execution_count": 730,
   "id": "9fb0b389",
   "metadata": {},
   "outputs": [
    {
     "name": "stdout",
     "output_type": "stream",
     "text": [
      "torch.Size([1115394]) torch.int64\n",
      "tensor([18, 47, 56, 57, 58,  1, 15, 47, 58, 47, 64, 43, 52, 10,  0, 14, 43, 44,\n",
      "        53, 56, 43,  1, 61, 43,  1, 54, 56, 53, 41, 43, 43, 42,  1, 39, 52, 63,\n",
      "         1, 44, 59, 56, 58, 46, 43, 56,  6,  1, 46, 43, 39, 56,  1, 51, 43,  1,\n",
      "        57, 54, 43, 39, 49,  8,  0,  0, 13, 50, 50, 10,  0, 31, 54, 43, 39, 49,\n",
      "         6,  1, 57, 54, 43, 39, 49,  8,  0,  0, 18, 47, 56, 57, 58,  1, 15, 47,\n",
      "        58, 47, 64, 43, 52, 10,  0, 37, 53, 59])\n"
     ]
    }
   ],
   "source": [
    "data = torch.tensor(encode(text), dtype=torch.long)\n",
    "print(data.shape, data.dtype)\n",
    "print(data[:100])"
   ]
  },
  {
   "cell_type": "code",
   "execution_count": 731,
   "id": "6550e149",
   "metadata": {},
   "outputs": [],
   "source": [
    "n = int(len(data)*0.9)\n",
    "train = data[:n]\n",
    "val = data[n:]"
   ]
  },
  {
   "cell_type": "code",
   "execution_count": 732,
   "id": "3401b04a",
   "metadata": {},
   "outputs": [
    {
     "name": "stdout",
     "output_type": "stream",
     "text": [
      "x: tensor([18, 47, 56, 57, 58,  1, 15, 47])\n",
      "y: tensor([47, 56, 57, 58,  1, 15, 47, 58])\n"
     ]
    }
   ],
   "source": [
    "print(f'x: {train[:block_size]}')\n",
    "print(f'y: {train[1:block_size+1]}')"
   ]
  },
  {
   "cell_type": "code",
   "execution_count": 733,
   "id": "58870ee7",
   "metadata": {},
   "outputs": [],
   "source": [
    "torch.manual_seed(49)\n",
    "\n",
    "def get_batch(phase):\n",
    "    data = train if phase =='train' else val\n",
    "    ix = torch.randint(len(data)-block_size, (batch_size, ))\n",
    "    x = torch.stack([data[i:i+block_size] for i in ix])\n",
    "    y = torch.stack([data[i+1:i+block_size+1] for i in ix])\n",
    "    x, y = x.to(device), y.to(device)\n",
    "    return x, y\n",
    "\n",
    "xb, yb = get_batch('train')\n",
    "# print('inputs:', xb.shape, '\\n', xb)\n",
    "# print('targets:', yb.shape, '\\n', yb)"
   ]
  },
  {
   "cell_type": "markdown",
   "id": "79f21d1c",
   "metadata": {},
   "source": [
    "# Model"
   ]
  },
  {
   "cell_type": "code",
   "execution_count": 734,
   "id": "13942838",
   "metadata": {},
   "outputs": [],
   "source": [
    "# Head\n",
    "class Head(nn.Module):\n",
    "    def __init__(self, head_size):\n",
    "        super().__init__()\n",
    "        self.head_size = head_size\n",
    "        self.key = nn.Linear(n_embd, head_size, bias=False)\n",
    "        self.query = nn.Linear(n_embd, head_size, bias=False)\n",
    "        self.value = nn.Linear(n_embd, head_size, bias=False)\n",
    "        self.register_buffer('tril', torch.tril(torch.ones(block_size, block_size)))\n",
    "        \n",
    "    def forward(self, x):\n",
    "        B, T, C = x.shape\n",
    "        k = self.key(x) # B, T, head\n",
    "        q = self.query(x) # B, T, head\n",
    "        # attention scores (affinities)\n",
    "        a = q @ k.transpose(-2, -1) * self.head_size**-0.5\n",
    "        a = a.masked_fill(self.tril[:T, :T] == 0, float('-inf'))\n",
    "        a = F.softmax(a, dim=-1)\n",
    "        \n",
    "        v = self.value(x)\n",
    "        out = a @ v\n",
    "        return out"
   ]
  },
  {
   "cell_type": "code",
   "execution_count": 735,
   "id": "820669b4",
   "metadata": {},
   "outputs": [],
   "source": [
    "# Multi-head\n",
    "class MultiHeadAttention(nn.Module):\n",
    "    def __init__(self, num_heads, head_size):\n",
    "        super().__init__()\n",
    "        self.heads = nn.ModuleList([Head(head_size) for _ in range(num_heads)])\n",
    "        self.proj = nn.Linear(n_embd, n_embd) # projection back to residual pathway\n",
    "        \n",
    "    def forward(self, x):\n",
    "        out = torch.cat([h(x) for h in self.heads], dim=-1)\n",
    "        out = self.proj(out)\n",
    "        return out"
   ]
  },
  {
   "cell_type": "code",
   "execution_count": 736,
   "id": "cd6f9527",
   "metadata": {},
   "outputs": [],
   "source": [
    "# Feed-Forward Networks\n",
    "class FeedForward(nn.Module):\n",
    "    def __init__(self, n_embd):\n",
    "        super().__init__()\n",
    "        self.net = nn.Sequential(\n",
    "            nn.Linear(n_embd, 4 * n_embd),\n",
    "            nn.ReLU(),\n",
    "        )\n",
    "        self.proj = nn.Linear(4 * n_embd, n_embd) # projection back to residual pathway\n",
    "    \n",
    "    def forward(self, x):\n",
    "        out = self.net(x)\n",
    "        out = self.proj(out)\n",
    "        return out"
   ]
  },
  {
   "cell_type": "code",
   "execution_count": 737,
   "id": "ef7ade39",
   "metadata": {},
   "outputs": [],
   "source": [
    "# Transformer Block\n",
    "class Block(nn.Module):\n",
    "    def __init__(self, n_embd, n_head):\n",
    "        super().__init__()\n",
    "        head_size = n_embd // n_head\n",
    "        self.sa_heads = MultiHeadAttention(n_head, head_size)\n",
    "        self.ffwd = FeedForward(n_embd)\n",
    "        self.ln1 = nn.LayerNorm(n_embd)\n",
    "        self.ln2 = nn.LayerNorm(n_embd)\n",
    "        \n",
    "    def forward(self, x):\n",
    "        x = x + self.sa_heads(self.ln1(x)) # prenorm \n",
    "        x = x + self.ffwd(self.ln2(x))\n",
    "        return x"
   ]
  },
  {
   "cell_type": "code",
   "execution_count": 744,
   "id": "c47ed1e8",
   "metadata": {},
   "outputs": [],
   "source": [
    "# Bigram Model\n",
    "class BigramLanguageModel(nn.Module):\n",
    "    def __init__(self):\n",
    "        super().__init__()\n",
    "        self.token_embd_table = nn.Embedding(vocab_size, n_embd)\n",
    "        self.position_embd_table = nn.Embedding(block_size, n_embd)\n",
    "        self.blocks = nn.Sequential(\n",
    "            Block(n_embd, n_head),\n",
    "            Block(n_embd, n_head),\n",
    "            Block(n_embd, n_head),\n",
    "        )\n",
    "        self.lm_head = nn.Linear(n_embd, vocab_size)\n",
    "    \n",
    "    def forward(self, idx, targets=None):\n",
    "        B, T = idx.shape\n",
    "        \n",
    "        # idx and targets are both B, T\n",
    "        tok_embd = self.token_embd_table(idx) # B, T, embd\n",
    "        pos_embd = self.position_embd_table(torch.arange(T, device=device)) # T, embd\n",
    "        x = tok_embd + pos_embd\n",
    "        x = self.blocks(x)\n",
    "        logits = self.lm_head(x) # B, T, vocab_size\n",
    "        \n",
    "        if targets is None:\n",
    "            loss = None\n",
    "        else:\n",
    "            B, T, C = logits.shape\n",
    "            logits = logits.view(B*T, C)\n",
    "            targets = targets.view(B*T)\n",
    "            loss = F.cross_entropy(logits, targets)\n",
    "        \n",
    "        return logits, loss\n",
    "    \n",
    "    def generate(self, idx, max_new_tokens):\n",
    "        for _ in range(max_new_tokens):\n",
    "            idx_cond = idx[:, -block_size:]\n",
    "            logits, loss = self(idx_cond) # B, T, C\n",
    "            logits = logits[:, -1, :] # B, C\n",
    "            probs = F.softmax(logits, dim=-1) # B, T\n",
    "            idx_next = torch.multinomial(probs, num_samples=1) # B, 1\n",
    "            idx = torch.cat((idx, idx_next), dim=1) # B, T+1\n",
    "        return idx"
   ]
  },
  {
   "cell_type": "code",
   "execution_count": 745,
   "id": "875e51de",
   "metadata": {},
   "outputs": [],
   "source": [
    "torch.manual_seed(49)\n",
    "model = BigramLanguageModel()"
   ]
  },
  {
   "cell_type": "markdown",
   "id": "599eb648",
   "metadata": {},
   "source": [
    "# Train Model"
   ]
  },
  {
   "cell_type": "code",
   "execution_count": 756,
   "id": "abcfb862",
   "metadata": {},
   "outputs": [],
   "source": [
    "# criterion = nn.CrossEntropyLoss()\n",
    "optimizer = optimizer = torch.optim.AdamW(model.parameters(), lr=lr)"
   ]
  },
  {
   "cell_type": "code",
   "execution_count": 747,
   "id": "64f00c6b",
   "metadata": {},
   "outputs": [],
   "source": [
    "def train_one_epoch():\n",
    "    model.train()\n",
    "    running_loss = 0\n",
    "    iteration = iters # int(len(train)/batch_size)\n",
    "    for _ in range(iteration):\n",
    "        xb, yb = get_batch('train')\n",
    "        \n",
    "        # forward pass\n",
    "        logits, loss = model(xb, yb)\n",
    "        \n",
    "        # backward pass\n",
    "        optimizer.zero_grad()\n",
    "        loss.backward()\n",
    "        optimizer.step()\n",
    "        \n",
    "        # track stat\n",
    "        running_loss += loss.item() / iteration\n",
    "    return running_loss"
   ]
  },
  {
   "cell_type": "code",
   "execution_count": 748,
   "id": "767307f9",
   "metadata": {},
   "outputs": [],
   "source": [
    "def evaluate():\n",
    "    model.eval()\n",
    "    running_loss = 0\n",
    "    iteration = iters # int(len(val)/batch_size)\n",
    "    \n",
    "    with torch.inference_mode():\n",
    "        for _ in range(iteration):\n",
    "            xb, yb = get_batch('val')\n",
    "            # forward pass\n",
    "            logits, loss = model(xb, yb)\n",
    "            running_loss += loss.item() / iteration\n",
    "    return running_loss"
   ]
  },
  {
   "cell_type": "code",
   "execution_count": 759,
   "id": "b3693b18",
   "metadata": {},
   "outputs": [
    {
     "data": {
      "application/vnd.jupyter.widget-view+json": {
       "model_id": "46257b6f699a4954bad37538095cc3f2",
       "version_major": 2,
       "version_minor": 0
      },
      "text/plain": [
       "  0%|          | 0/20 [00:00<?, ?it/s]"
      ]
     },
     "metadata": {},
     "output_type": "display_data"
    },
    {
     "name": "stdout",
     "output_type": "stream",
     "text": [
      "Epoch: 1/20 | training loss: 1.9344 | validation loss: 2.0427\n",
      "Epoch: 2/20 | training loss: 1.9410 | validation loss: 2.0314\n",
      "Epoch: 3/20 | training loss: 1.9374 | validation loss: 2.0407\n",
      "Epoch: 4/20 | training loss: 1.9345 | validation loss: 2.0354\n",
      "Epoch: 5/20 | training loss: 1.9312 | validation loss: 2.0319\n",
      "Epoch: 6/20 | training loss: 1.9259 | validation loss: 2.0335\n",
      "Epoch: 7/20 | training loss: 1.9242 | validation loss: 2.0307\n",
      "Epoch: 8/20 | training loss: 1.9272 | validation loss: 2.0258\n",
      "Epoch: 9/20 | training loss: 1.9247 | validation loss: 2.0325\n",
      "Epoch: 10/20 | training loss: 1.9219 | validation loss: 2.0301\n",
      "Epoch: 11/20 | training loss: 1.9189 | validation loss: 2.0322\n",
      "Epoch: 12/20 | training loss: 1.9153 | validation loss: 2.0305\n",
      "Epoch: 13/20 | training loss: 1.9141 | validation loss: 2.0311\n",
      "Epoch: 14/20 | training loss: 1.9092 | validation loss: 2.0262\n",
      "Epoch: 15/20 | training loss: 1.9120 | validation loss: 2.0227\n",
      "Epoch: 16/20 | training loss: 1.9138 | validation loss: 2.0246\n",
      "Epoch: 17/20 | training loss: 1.9045 | validation loss: 2.0211\n",
      "Epoch: 18/20 | training loss: 1.9069 | validation loss: 2.0217\n",
      "Epoch: 19/20 | training loss: 1.9005 | validation loss: 2.0183\n",
      "Epoch: 20/20 | training loss: 1.9078 | validation loss: 2.0225\n"
     ]
    }
   ],
   "source": [
    "for epoch in tqdm(range(epochs)):\n",
    "    train_loss = train_one_epoch()\n",
    "    val_loss = evaluate()\n",
    "    print(f\"Epoch: {epoch+1}/{epochs} | training loss: {train_loss:.4f} | validation loss: {val_loss:.4f}\")"
   ]
  },
  {
   "cell_type": "markdown",
   "id": "6a32787d",
   "metadata": {},
   "source": [
    "# Generate"
   ]
  },
  {
   "cell_type": "code",
   "execution_count": 762,
   "id": "dcab4c5b",
   "metadata": {},
   "outputs": [
    {
     "name": "stdout",
     "output_type": "stream",
     "text": [
      "\n",
      "To Anto swome his Self\n",
      "Best their:\n",
      "I ret sfyound tearny ther mornane. A thee pureb'ds\n",
      "Dike\n",
      "Ullews sit you, chach never stontwer of her!\n",
      "I grower,\n",
      "Some four this floght.\n",
      "\n",
      "CORCADURE\n",
      "MERSCINIOF VI' chimile,\n",
      "I them makidicece.\n",
      "\n",
      "HANGEY:\n",
      "Ben thin awas, my instrant-arthere good do the woad! \n",
      "God cally\n",
      "That himes a which tall: crema;\n",
      "And, dedince,\n",
      "WinSaven;\n",
      "The ratie, have hears, deaps abothter, are it to burithere rour you dewo sit doth she meclaids,\n",
      "Tide?\n",
      "\n",
      "LORD GIARGIE:\n",
      "Hold, man.\n",
      "\n",
      "LAUSTEL:\n",
      "For oul strow not rever sires; your old two rulded the the dispily, son we murdine.\n",
      "\n",
      "Micks, broys tursil.\n",
      "\n",
      "KING RICESTER:\n",
      "Bhis my Warwolds: chart,\n",
      "Have fromm from me, let ken\n",
      "that that or we disprance so, and men pustry sive and somel seel.\n",
      "Nurse did at cill'd man,\n",
      "Thore ware lord?\n",
      "War: Work, a plew do of reme caul.\n",
      "\n",
      "I proan to mood, their.\n",
      "\n",
      "KING EDWHBY:\n",
      "Feliry for rist boy, of smyy wet lord. To do preak,\n",
      "I will to were met, as you.\n",
      "Bof dughter: thans blose sless. Where Eght.\n",
      "\n",
      "LUCESTER:\n",
      "Ah,\n",
      "Hath no at emo\n"
     ]
    }
   ],
   "source": [
    "idx = torch.zeros((1, 1), dtype=torch.long).to(device)\n",
    "print(decode(model.generate(idx, 1000)[0].tolist()))"
   ]
  },
  {
   "cell_type": "markdown",
   "id": "bb422976",
   "metadata": {},
   "source": [
    "# The mathematical trick in self-attention"
   ]
  },
  {
   "cell_type": "code",
   "execution_count": 494,
   "id": "2f778311",
   "metadata": {},
   "outputs": [
    {
     "data": {
      "text/plain": [
       "torch.Size([4, 8, 2])"
      ]
     },
     "execution_count": 494,
     "metadata": {},
     "output_type": "execute_result"
    }
   ],
   "source": [
    "torch.manual_seed(49)\n",
    "B, T, C = 4, 8, 2\n",
    "x = torch.randn(B, T, C)\n",
    "x.shape"
   ]
  },
  {
   "cell_type": "code",
   "execution_count": 326,
   "id": "812e967f",
   "metadata": {},
   "outputs": [
    {
     "data": {
      "text/plain": [
       "torch.Size([4, 8, 2])"
      ]
     },
     "execution_count": 326,
     "metadata": {},
     "output_type": "execute_result"
    }
   ],
   "source": [
    "wei = torch.tril(torch.ones(T, T))\n",
    "wei /= wei.sum(1, keepdim=True)\n",
    "xbow = wei @ x # bag of word (B, T, T) @ (B, T, C) --> (B, T, C)\n",
    "xbow.shape "
   ]
  },
  {
   "cell_type": "code",
   "execution_count": 344,
   "id": "166aadd9",
   "metadata": {},
   "outputs": [
    {
     "data": {
      "text/plain": [
       "torch.Size([4, 8, 2])"
      ]
     },
     "execution_count": 344,
     "metadata": {},
     "output_type": "execute_result"
    }
   ],
   "source": [
    "torch.manual_seed(49)\n",
    "tril = torch.tril(torch.ones(T, T))\n",
    "a = torch.randn((T, T)) # affinity\n",
    "a = a.masked_fill(tril == 0, float('-inf')) # token from future can not communicate\n",
    "a = F.softmax(a, dim=-1)\n",
    "xbow = a @ x\n",
    "xbow.shape"
   ]
  },
  {
   "cell_type": "code",
   "execution_count": 622,
   "id": "b8594dfa",
   "metadata": {},
   "outputs": [
    {
     "data": {
      "text/plain": [
       "torch.Size([4, 8, 16])"
      ]
     },
     "execution_count": 622,
     "metadata": {},
     "output_type": "execute_result"
    }
   ],
   "source": [
    "# self-attention\n",
    "torch.manual_seed(47)\n",
    "\n",
    "B, T, C = 4, 8, 32\n",
    "x = torch.randn(B, T, C)\n",
    "\n",
    "head_size = 16\n",
    "key = nn.Linear(C, head_size, bias=False)\n",
    "query = nn.Linear(C, head_size, bias=False)\n",
    "value = nn.Linear(C, head_size, bias=False)\n",
    "k = key(x) # B, T, head_size\n",
    "q = query(x) # B, T, head_size\n",
    "a = q @ k.transpose(-2, -1) # * head_size**-0.5 # B, T, T\n",
    "\n",
    "tril = torch.tril(torch.ones(T, T))\n",
    "a = a.masked_fill(tril == 0, float('-inf'))\n",
    "a = F.softmax(a, dim=-1)\n",
    "\n",
    "v = value(x)\n",
    "out = a @ v\n",
    "out.shape"
   ]
  },
  {
   "cell_type": "code",
   "execution_count": null,
   "id": "49641144",
   "metadata": {},
   "outputs": [],
   "source": []
  }
 ],
 "metadata": {
  "kernelspec": {
   "display_name": "Python 3 (ipykernel)",
   "language": "python",
   "name": "python3"
  },
  "language_info": {
   "codemirror_mode": {
    "name": "ipython",
    "version": 3
   },
   "file_extension": ".py",
   "mimetype": "text/x-python",
   "name": "python",
   "nbconvert_exporter": "python",
   "pygments_lexer": "ipython3",
   "version": "3.11.3"
  }
 },
 "nbformat": 4,
 "nbformat_minor": 5
}
